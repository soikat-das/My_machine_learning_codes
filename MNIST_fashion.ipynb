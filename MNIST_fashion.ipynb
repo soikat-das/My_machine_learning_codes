{
  "nbformat": 4,
  "nbformat_minor": 0,
  "metadata": {
    "colab": {
      "name": "Soikat_MNIST_fashion.ipynb",
      "provenance": []
    },
    "kernelspec": {
      "name": "python3",
      "display_name": "Python 3"
    },
    "language_info": {
      "name": "python"
    }
  },
  "cells": [
    {
      "cell_type": "code",
      "source": [
        "import numpy as np\n",
        "import keras\n",
        "from keras.models import Sequential\n",
        "from keras.layers import Flatten, Dense\n",
        "import matplotlib.pyplot as plt"
      ],
      "metadata": {
        "id": "ZrN8Oa1OxwpR"
      },
      "execution_count": 5,
      "outputs": []
    },
    {
      "cell_type": "code",
      "source": [
        "from keras.datasets import fashion_mnist"
      ],
      "metadata": {
        "id": "C8I54SQ9yQWE"
      },
      "execution_count": 6,
      "outputs": []
    },
    {
      "cell_type": "code",
      "source": [
        "(x_train, x_labels), (y_test, y_labels) = fashion_mnist.load_data()"
      ],
      "metadata": {
        "colab": {
          "base_uri": "https://localhost:8080/"
        },
        "id": "1APvR47oynIL",
        "outputId": "10563b5b-d928-4fed-ea30-f8445a782443"
      },
      "execution_count": 7,
      "outputs": [
        {
          "output_type": "stream",
          "name": "stdout",
          "text": [
            "Downloading data from https://storage.googleapis.com/tensorflow/tf-keras-datasets/train-labels-idx1-ubyte.gz\n",
            "32768/29515 [=================================] - 0s 0us/step\n",
            "40960/29515 [=========================================] - 0s 0us/step\n",
            "Downloading data from https://storage.googleapis.com/tensorflow/tf-keras-datasets/train-images-idx3-ubyte.gz\n",
            "26427392/26421880 [==============================] - 0s 0us/step\n",
            "26435584/26421880 [==============================] - 0s 0us/step\n",
            "Downloading data from https://storage.googleapis.com/tensorflow/tf-keras-datasets/t10k-labels-idx1-ubyte.gz\n",
            "16384/5148 [===============================================================================================] - 0s 0us/step\n",
            "Downloading data from https://storage.googleapis.com/tensorflow/tf-keras-datasets/t10k-images-idx3-ubyte.gz\n",
            "4423680/4422102 [==============================] - 0s 0us/step\n",
            "4431872/4422102 [==============================] - 0s 0us/step\n"
          ]
        }
      ]
    },
    {
      "cell_type": "code",
      "source": [
        "plt.imshow(x_train[0])\n",
        "plt.title('Class: {}'.format(x_labels[0]))\n",
        "plt.figure()"
      ],
      "metadata": {
        "colab": {
          "base_uri": "https://localhost:8080/",
          "height": 316
        },
        "id": "4hSsPbcYzAb0",
        "outputId": "ec8fd346-2a7a-41d1-83a4-e017ac631c40"
      },
      "execution_count": 8,
      "outputs": [
        {
          "output_type": "execute_result",
          "data": {
            "text/plain": [
              "<Figure size 432x288 with 0 Axes>"
            ]
          },
          "metadata": {},
          "execution_count": 8
        },
        {
          "output_type": "display_data",
          "data": {
            "image/png": "[encoded data removed]",
            "text/plain": [
              "<Figure size 432x288 with 1 Axes>"
            ]
          },
          "metadata": {
            "needs_background": "light"
          }
        },
        {
          "output_type": "display_data",
          "data": {
            "text/plain": [
              "<Figure size 432x288 with 0 Axes>"
            ]
          },
          "metadata": {}
        }
      ]
    },
    {
      "cell_type": "code",
      "source": [
        "from keras.utils import np_utils\n",
        "x_train = np_utils.normalize(x_train, axis = 1)\n",
        "y_test = np_utils.normalize(y_test, axis = 1)\n",
        "plt.imshow(x_train[0])\n",
        "plt.title('Class: {}'.format(x_labels[0]))\n",
        "plt.figure()"
      ],
      "metadata": {
        "colab": {
          "base_uri": "https://localhost:8080/",
          "height": 316
        },
        "id": "QYFq1YASzMJZ",
        "outputId": "04fe2b52-df81-4a2b-8865-a80b1f1b943f"
      },
      "execution_count": 10,
      "outputs": [
        {
          "output_type": "execute_result",
          "data": {
            "text/plain": [
              "<Figure size 432x288 with 0 Axes>"
            ]
          },
          "metadata": {},
          "execution_count": 10
        },
        {
          "output_type": "display_data",
          "data": {
            "image/png": "[encoded data removed]",
            "text/plain": [
              "<Figure size 432x288 with 1 Axes>"
            ]
          },
          "metadata": {
            "needs_background": "light"
          }
        },
        {
          "output_type": "display_data",
          "data": {
            "text/plain": [
              "<Figure size 432x288 with 0 Axes>"
            ]
          },
          "metadata": {}
        }
      ]
    },
    {
      "cell_type": "code",
      "source": [
        "model = Sequential()\n",
        "model.add(Flatten(input_shape=((28,28))))\n",
        "model.add(Dense(200, activation=\"relu\"))\n",
        "model.add(Dense(10, activation=\"softmax\"))\n",
        "\n",
        "model.compile(optimizer = \"adam\", loss=\"sparse_categorical_crossentropy\", metrics = [\"accuracy\"])\n",
        "\n",
        "model.fit(x_train, x_labels, epochs = 100)"
      ],
      "metadata": {
        "colab": {
          "base_uri": "https://localhost:8080/"
        },
        "id": "UCCH4vfjzU6f",
        "outputId": "07c17528-1428-4fe7-aaec-c5b71585d363"
      },
      "execution_count": 11,
      "outputs": [
        {
          "output_type": "stream",
          "name": "stdout",
          "text": [
            "Epoch 1/100\n",
            "1875/1875 [==============================] - 8s 4ms/step - loss: 0.4938 - accuracy: 0.8230\n",
            "Epoch 2/100\n",
            "1875/1875 [==============================] - 7s 4ms/step - loss: 0.3611 - accuracy: 0.8677\n",
            "Epoch 3/100\n",
            "1875/1875 [==============================] - 8s 4ms/step - loss: 0.3240 - accuracy: 0.8804\n",
            "Epoch 4/100\n",
            "1875/1875 [==============================] - 8s 4ms/step - loss: 0.2988 - accuracy: 0.8892\n",
            "Epoch 5/100\n",
            "1875/1875 [==============================] - 8s 4ms/step - loss: 0.2773 - accuracy: 0.8960\n",
            "Epoch 6/100\n",
            "1875/1875 [==============================] - 8s 4ms/step - loss: 0.2621 - accuracy: 0.9011\n",
            "Epoch 7/100\n",
            "1875/1875 [==============================] - 7s 4ms/step - loss: 0.2487 - accuracy: 0.9062\n",
            "Epoch 8/100\n",
            "1875/1875 [==============================] - 8s 4ms/step - loss: 0.2354 - accuracy: 0.9124\n",
            "Epoch 9/100\n",
            "1875/1875 [==============================] - 8s 4ms/step - loss: 0.2248 - accuracy: 0.9146\n",
            "Epoch 10/100\n",
            "1875/1875 [==============================] - 8s 4ms/step - loss: 0.2138 - accuracy: 0.9195\n",
            "Epoch 11/100\n",
            "1875/1875 [==============================] - 7s 4ms/step - loss: 0.2048 - accuracy: 0.9228\n",
            "Epoch 12/100\n",
            "1875/1875 [==============================] - 7s 4ms/step - loss: 0.1957 - accuracy: 0.9266\n",
            "Epoch 13/100\n",
            "1875/1875 [==============================] - 8s 4ms/step - loss: 0.1894 - accuracy: 0.9281\n",
            "Epoch 14/100\n",
            "1875/1875 [==============================] - 7s 4ms/step - loss: 0.1801 - accuracy: 0.9326\n",
            "Epoch 15/100\n",
            "1875/1875 [==============================] - 7s 4ms/step - loss: 0.1732 - accuracy: 0.9337\n",
            "Epoch 16/100\n",
            "1875/1875 [==============================] - 8s 4ms/step - loss: 0.1671 - accuracy: 0.9377\n",
            "Epoch 17/100\n",
            "1875/1875 [==============================] - 7s 4ms/step - loss: 0.1597 - accuracy: 0.9402\n",
            "Epoch 18/100\n",
            "1875/1875 [==============================] - 7s 3ms/step - loss: 0.1540 - accuracy: 0.9423\n",
            "Epoch 19/100\n",
            "1875/1875 [==============================] - 6s 3ms/step - loss: 0.1472 - accuracy: 0.9453\n",
            "Epoch 20/100\n",
            "1875/1875 [==============================] - 6s 3ms/step - loss: 0.1423 - accuracy: 0.9476\n",
            "Epoch 21/100\n",
            "1875/1875 [==============================] - 6s 3ms/step - loss: 0.1375 - accuracy: 0.9483\n",
            "Epoch 22/100\n",
            "1875/1875 [==============================] - 6s 3ms/step - loss: 0.1332 - accuracy: 0.9496\n",
            "Epoch 23/100\n",
            "1875/1875 [==============================] - 6s 3ms/step - loss: 0.1264 - accuracy: 0.9535\n",
            "Epoch 24/100\n",
            "1875/1875 [==============================] - 6s 3ms/step - loss: 0.1246 - accuracy: 0.9536\n",
            "Epoch 25/100\n",
            "1875/1875 [==============================] - 6s 3ms/step - loss: 0.1185 - accuracy: 0.9561\n",
            "Epoch 26/100\n",
            "1875/1875 [==============================] - 6s 3ms/step - loss: 0.1165 - accuracy: 0.9572\n",
            "Epoch 27/100\n",
            "1875/1875 [==============================] - 6s 3ms/step - loss: 0.1107 - accuracy: 0.9589\n",
            "Epoch 28/100\n",
            "1875/1875 [==============================] - 6s 3ms/step - loss: 0.1096 - accuracy: 0.9590\n",
            "Epoch 29/100\n",
            "1875/1875 [==============================] - 6s 3ms/step - loss: 0.1053 - accuracy: 0.9610\n",
            "Epoch 30/100\n",
            "1875/1875 [==============================] - 6s 3ms/step - loss: 0.1014 - accuracy: 0.9623\n",
            "Epoch 31/100\n",
            "1875/1875 [==============================] - 6s 3ms/step - loss: 0.0977 - accuracy: 0.9632\n",
            "Epoch 32/100\n",
            "1875/1875 [==============================] - 6s 3ms/step - loss: 0.0959 - accuracy: 0.9651\n",
            "Epoch 33/100\n",
            "1875/1875 [==============================] - 6s 3ms/step - loss: 0.0917 - accuracy: 0.9664\n",
            "Epoch 34/100\n",
            "1875/1875 [==============================] - 6s 3ms/step - loss: 0.0905 - accuracy: 0.9672\n",
            "Epoch 35/100\n",
            "1875/1875 [==============================] - 6s 3ms/step - loss: 0.0879 - accuracy: 0.9675\n",
            "Epoch 36/100\n",
            "1875/1875 [==============================] - 6s 3ms/step - loss: 0.0835 - accuracy: 0.9693\n",
            "Epoch 37/100\n",
            "1875/1875 [==============================] - 6s 3ms/step - loss: 0.0831 - accuracy: 0.9696\n",
            "Epoch 38/100\n",
            "1875/1875 [==============================] - 6s 3ms/step - loss: 0.0804 - accuracy: 0.9702\n",
            "Epoch 39/100\n",
            "1875/1875 [==============================] - 6s 3ms/step - loss: 0.0785 - accuracy: 0.9704\n",
            "Epoch 40/100\n",
            "1875/1875 [==============================] - 6s 3ms/step - loss: 0.0762 - accuracy: 0.9715\n",
            "Epoch 41/100\n",
            "1875/1875 [==============================] - 6s 3ms/step - loss: 0.0744 - accuracy: 0.9726\n",
            "Epoch 42/100\n",
            "1875/1875 [==============================] - 6s 3ms/step - loss: 0.0727 - accuracy: 0.9731\n",
            "Epoch 43/100\n",
            "1875/1875 [==============================] - 6s 3ms/step - loss: 0.0710 - accuracy: 0.9735\n",
            "Epoch 44/100\n",
            "1875/1875 [==============================] - 7s 4ms/step - loss: 0.0695 - accuracy: 0.9743\n",
            "Epoch 45/100\n",
            "1875/1875 [==============================] - 7s 4ms/step - loss: 0.0668 - accuracy: 0.9761\n",
            "Epoch 46/100\n",
            "1875/1875 [==============================] - 7s 4ms/step - loss: 0.0648 - accuracy: 0.9762\n",
            "Epoch 47/100\n",
            "1875/1875 [==============================] - 7s 3ms/step - loss: 0.0635 - accuracy: 0.9764\n",
            "Epoch 48/100\n",
            "1875/1875 [==============================] - 7s 3ms/step - loss: 0.0630 - accuracy: 0.9775\n",
            "Epoch 49/100\n",
            "1875/1875 [==============================] - 6s 3ms/step - loss: 0.0610 - accuracy: 0.9779\n",
            "Epoch 50/100\n",
            "1875/1875 [==============================] - 6s 3ms/step - loss: 0.0592 - accuracy: 0.9783\n",
            "Epoch 51/100\n",
            "1875/1875 [==============================] - 6s 3ms/step - loss: 0.0593 - accuracy: 0.9778\n",
            "Epoch 52/100\n",
            "1875/1875 [==============================] - 6s 3ms/step - loss: 0.0557 - accuracy: 0.9799\n",
            "Epoch 53/100\n",
            "1875/1875 [==============================] - 6s 3ms/step - loss: 0.0580 - accuracy: 0.9786\n",
            "Epoch 54/100\n",
            "1875/1875 [==============================] - 6s 3ms/step - loss: 0.0565 - accuracy: 0.9793\n",
            "Epoch 55/100\n",
            "1875/1875 [==============================] - 6s 3ms/step - loss: 0.0547 - accuracy: 0.9803\n",
            "Epoch 56/100\n",
            "1875/1875 [==============================] - 6s 3ms/step - loss: 0.0525 - accuracy: 0.9810\n",
            "Epoch 57/100\n",
            "1875/1875 [==============================] - 6s 3ms/step - loss: 0.0528 - accuracy: 0.9807\n",
            "Epoch 58/100\n",
            "1875/1875 [==============================] - 7s 3ms/step - loss: 0.0484 - accuracy: 0.9824\n",
            "Epoch 59/100\n",
            "1875/1875 [==============================] - 7s 4ms/step - loss: 0.0495 - accuracy: 0.9822\n",
            "Epoch 60/100\n",
            "1875/1875 [==============================] - 7s 4ms/step - loss: 0.0485 - accuracy: 0.9825\n",
            "Epoch 61/100\n",
            "1875/1875 [==============================] - 7s 4ms/step - loss: 0.0481 - accuracy: 0.9820\n",
            "Epoch 62/100\n",
            "1875/1875 [==============================] - 7s 4ms/step - loss: 0.0452 - accuracy: 0.9830\n",
            "Epoch 63/100\n",
            "1875/1875 [==============================] - 7s 4ms/step - loss: 0.0488 - accuracy: 0.9819\n",
            "Epoch 64/100\n",
            "1875/1875 [==============================] - 7s 4ms/step - loss: 0.0439 - accuracy: 0.9839\n",
            "Epoch 65/100\n",
            "1875/1875 [==============================] - 7s 4ms/step - loss: 0.0444 - accuracy: 0.9840\n",
            "Epoch 66/100\n",
            "1875/1875 [==============================] - 6s 3ms/step - loss: 0.0440 - accuracy: 0.9843\n",
            "Epoch 67/100\n",
            "1875/1875 [==============================] - 7s 4ms/step - loss: 0.0409 - accuracy: 0.9846\n",
            "Epoch 68/100\n",
            "1875/1875 [==============================] - 8s 4ms/step - loss: 0.0422 - accuracy: 0.9842\n",
            "Epoch 69/100\n",
            "1875/1875 [==============================] - 7s 4ms/step - loss: 0.0407 - accuracy: 0.9851\n",
            "Epoch 70/100\n",
            "1875/1875 [==============================] - 6s 3ms/step - loss: 0.0413 - accuracy: 0.9846\n",
            "Epoch 71/100\n",
            "1875/1875 [==============================] - 7s 4ms/step - loss: 0.0383 - accuracy: 0.9860\n",
            "Epoch 72/100\n",
            "1875/1875 [==============================] - 6s 3ms/step - loss: 0.0421 - accuracy: 0.9845\n",
            "Epoch 73/100\n",
            "1875/1875 [==============================] - 6s 3ms/step - loss: 0.0390 - accuracy: 0.9857\n",
            "Epoch 74/100\n",
            "1875/1875 [==============================] - 6s 3ms/step - loss: 0.0411 - accuracy: 0.9850\n",
            "Epoch 75/100\n",
            "1875/1875 [==============================] - 6s 3ms/step - loss: 0.0345 - accuracy: 0.9875\n",
            "Epoch 76/100\n",
            "1875/1875 [==============================] - 6s 3ms/step - loss: 0.0376 - accuracy: 0.9860\n",
            "Epoch 77/100\n",
            "1875/1875 [==============================] - 6s 3ms/step - loss: 0.0355 - accuracy: 0.9870\n",
            "Epoch 78/100\n",
            "1875/1875 [==============================] - 6s 3ms/step - loss: 0.0360 - accuracy: 0.9866\n",
            "Epoch 79/100\n",
            "1875/1875 [==============================] - 6s 3ms/step - loss: 0.0366 - accuracy: 0.9865\n",
            "Epoch 80/100\n",
            "1875/1875 [==============================] - 6s 3ms/step - loss: 0.0374 - accuracy: 0.9862\n",
            "Epoch 81/100\n",
            "1875/1875 [==============================] - 6s 3ms/step - loss: 0.0319 - accuracy: 0.9883\n",
            "Epoch 82/100\n",
            "1875/1875 [==============================] - 6s 3ms/step - loss: 0.0346 - accuracy: 0.9873\n",
            "Epoch 83/100\n",
            "1875/1875 [==============================] - 6s 3ms/step - loss: 0.0331 - accuracy: 0.9884\n",
            "Epoch 84/100\n",
            "1875/1875 [==============================] - 6s 3ms/step - loss: 0.0330 - accuracy: 0.9879\n",
            "Epoch 85/100\n",
            "1875/1875 [==============================] - 6s 3ms/step - loss: 0.0319 - accuracy: 0.9884\n",
            "Epoch 86/100\n",
            "1875/1875 [==============================] - 6s 3ms/step - loss: 0.0315 - accuracy: 0.9885\n",
            "Epoch 87/100\n",
            "1875/1875 [==============================] - 6s 3ms/step - loss: 0.0318 - accuracy: 0.9880\n",
            "Epoch 88/100\n",
            "1875/1875 [==============================] - 6s 3ms/step - loss: 0.0307 - accuracy: 0.9888\n",
            "Epoch 89/100\n",
            "1875/1875 [==============================] - 6s 3ms/step - loss: 0.0297 - accuracy: 0.9893\n",
            "Epoch 90/100\n",
            "1875/1875 [==============================] - 6s 3ms/step - loss: 0.0296 - accuracy: 0.9899\n",
            "Epoch 91/100\n",
            "1875/1875 [==============================] - 6s 3ms/step - loss: 0.0307 - accuracy: 0.9884\n",
            "Epoch 92/100\n",
            "1875/1875 [==============================] - 6s 3ms/step - loss: 0.0292 - accuracy: 0.9888\n",
            "Epoch 93/100\n",
            "1875/1875 [==============================] - 6s 3ms/step - loss: 0.0295 - accuracy: 0.9894\n",
            "Epoch 94/100\n",
            "1875/1875 [==============================] - 6s 3ms/step - loss: 0.0309 - accuracy: 0.9889\n",
            "Epoch 95/100\n",
            "1875/1875 [==============================] - 6s 3ms/step - loss: 0.0284 - accuracy: 0.9898\n",
            "Epoch 96/100\n",
            "1875/1875 [==============================] - 6s 3ms/step - loss: 0.0270 - accuracy: 0.9903\n",
            "Epoch 97/100\n",
            "1875/1875 [==============================] - 6s 3ms/step - loss: 0.0277 - accuracy: 0.9901\n",
            "Epoch 98/100\n",
            "1875/1875 [==============================] - 6s 3ms/step - loss: 0.0271 - accuracy: 0.9905\n",
            "Epoch 99/100\n",
            "1875/1875 [==============================] - 6s 3ms/step - loss: 0.0270 - accuracy: 0.9898\n",
            "Epoch 100/100\n",
            "1875/1875 [==============================] - 6s 3ms/step - loss: 0.0277 - accuracy: 0.9898\n"
          ]
        },
        {
          "output_type": "execute_result",
          "data": {
            "text/plain": [
              "<keras.callbacks.History at 0x7ff03d939f10>"
            ]
          },
          "metadata": {},
          "execution_count": 11
        }
      ]
    },
    {
      "cell_type": "code",
      "source": [
        "model.evaluate(y_test, y_labels)"
      ],
      "metadata": {
        "colab": {
          "base_uri": "https://localhost:8080/"
        },
        "id": "jUPegt_a0waG",
        "outputId": "07527aba-d250-43c1-cbc7-d31479c8b320"
      },
      "execution_count": 13,
      "outputs": [
        {
          "output_type": "stream",
          "name": "stdout",
          "text": [
            "313/313 [==============================] - 1s 2ms/step - loss: 0.9450 - accuracy: 0.8852\n"
          ]
        },
        {
          "output_type": "execute_result",
          "data": {
            "text/plain": [
              "[0.945014476776123, 0.885200023651123]"
            ]
          },
          "metadata": {},
          "execution_count": 13
        }
      ]
    },
    {
      "cell_type": "code",
      "source": [
        "predict = model.predict(y_test[10:30])\n",
        "print(predict)"
      ],
      "metadata": {
        "colab": {
          "base_uri": "https://localhost:8080/"
        },
        "id": "vc3lHfiJ3c2l",
        "outputId": "a8f7ba8e-6927-478b-91e3-634789fba9ed"
      },
      "execution_count": 20,
      "outputs": [
        {
          "output_type": "stream",
          "name": "stdout",
          "text": [
            "[[5.5471153e-12 7.3370414e-19 4.2022748e-05 1.4024278e-17 9.9995673e-01\n",
            "  8.9006991e-10 1.2632091e-06 1.3010988e-11 9.2940907e-14 7.8248225e-19]\n",
            " [2.3166311e-31 6.9836375e-36 3.6805668e-29 0.0000000e+00 5.4833259e-26\n",
            "  1.0000000e+00 2.7682853e-27 3.7751077e-25 2.4967884e-29 2.6890778e-27]\n",
            " [4.2363593e-33 0.0000000e+00 2.0386999e-33 2.0697442e-28 1.8093423e-30\n",
            "  9.9999928e-01 9.5891020e-37 7.1888275e-07 1.3160647e-15 2.7212027e-32]\n",
            " [1.7058230e-12 2.2207002e-12 2.2165474e-17 1.0000000e+00 1.1071555e-17\n",
            "  5.0372520e-20 2.0246688e-15 1.7138658e-19 5.1876509e-10 1.2283054e-14]\n",
            " [7.0825214e-11 4.1004789e-15 9.4391185e-01 5.3349623e-11 5.5156756e-02\n",
            "  8.6325329e-08 9.3071332e-04 3.2628459e-11 5.1256347e-07 6.3501748e-10]\n",
            " [3.9519691e-23 1.0000000e+00 1.0103144e-30 2.8329200e-14 1.9561437e-22\n",
            "  0.0000000e+00 1.3409065e-31 5.7909701e-34 1.6299819e-27 0.0000000e+00]\n",
            " [3.1526839e-23 2.4275733e-34 1.0000000e+00 1.2633483e-28 1.2569434e-16\n",
            "  2.9771527e-26 4.8499806e-13 1.2412449e-36 1.6661682e-34 6.7436981e-28]\n",
            " [1.0276239e-12 9.8915095e-19 9.9937785e-01 3.3330257e-21 6.2209950e-04\n",
            "  3.2439265e-14 3.7500811e-10 3.7553782e-21 6.4191485e-10 5.1370349e-11]\n",
            " [3.1587447e-27 0.0000000e+00 7.1854666e-24 0.0000000e+00 0.0000000e+00\n",
            "  5.0204357e-17 2.5509518e-22 9.4136695e-26 1.0000000e+00 5.5341219e-24]\n",
            " [9.9990237e-01 1.8815785e-17 9.7512377e-05 1.4336332e-15 3.4005791e-14\n",
            "  2.0638737e-14 7.1783859e-08 4.1820569e-22 1.9873917e-14 2.7507392e-14]\n",
            " [9.8989275e-04 6.4102911e-21 9.9901009e-01 8.1783662e-28 2.9016614e-09\n",
            "  1.8773207e-16 3.3580841e-10 5.4768151e-17 1.6418189e-16 3.3883934e-18]\n",
            " [1.6569072e-35 1.7547427e-27 8.5800254e-30 7.6322402e-33 8.0744308e-24\n",
            "  1.0000000e+00 6.8550804e-33 1.9406846e-10 7.5791523e-24 6.9191878e-17]\n",
            " [4.5234859e-34 9.4012577e-25 3.5698246e-26 3.2534624e-19 6.7268541e-25\n",
            "  8.6155220e-13 1.1034182e-35 1.0000000e+00 5.3563018e-12 1.1329182e-17]\n",
            " [2.0640981e-22 1.8733310e-18 5.4265906e-22 1.1812504e-28 1.6978510e-34\n",
            "  8.1762201e-01 4.5334170e-12 1.8228075e-01 9.8720398e-16 9.7253294e-05]\n",
            " [3.7922655e-27 1.0000000e+00 4.7718981e-30 3.9374506e-29 1.5125642e-31\n",
            "  0.0000000e+00 5.5143987e-31 3.7634505e-38 1.7784489e-36 0.0000000e+00]\n",
            " [3.9829637e-14 1.5222816e-20 9.9854481e-01 3.9202403e-26 1.4552522e-03\n",
            "  4.3434603e-14 6.0160182e-10 8.6425288e-19 3.0576471e-16 2.2216798e-32]\n",
            " [6.7745245e-13 1.2434185e-13 1.6656955e-03 2.6258116e-14 4.7889497e-04\n",
            "  1.9490330e-05 9.9783593e-01 1.7373278e-10 1.5883735e-10 8.5637879e-09]\n",
            " [9.9973565e-01 9.9294201e-12 3.8254178e-08 2.3859995e-04 2.5905849e-12\n",
            "  3.6853992e-12 2.5750811e-05 4.5801953e-13 1.5955458e-14 1.5014215e-16]\n",
            " [3.3277907e-30 2.6746978e-24 0.0000000e+00 8.1529761e-26 5.3156337e-34\n",
            "  1.0224683e-17 1.5431534e-27 3.8321556e-08 1.4903868e-24 1.0000000e+00]\n",
            " [1.9331396e-10 1.9423274e-14 5.2202671e-07 3.0149096e-03 1.6952193e-06\n",
            "  1.9465348e-05 9.9694854e-01 2.6313563e-07 1.4705859e-05 6.3754377e-11]]\n"
          ]
        }
      ]
    },
    {
      "cell_type": "code",
      "source": [
        "pr = np.argmax(predict, axis=1)\n",
        "print(pr)\n",
        "print(y_labels[10:30])"
      ],
      "metadata": {
        "colab": {
          "base_uri": "https://localhost:8080/"
        },
        "id": "fN_X3fnc3pmn",
        "outputId": "cd58f4e5-db3b-4238-df76-527e1cdfb8fb"
      },
      "execution_count": 21,
      "outputs": [
        {
          "output_type": "stream",
          "name": "stdout",
          "text": [
            "[4 5 5 3 2 1 2 2 8 0 2 5 7 5 1 2 6 0 9 6]\n",
            "[4 5 7 3 4 1 2 4 8 0 2 5 7 9 1 4 6 0 9 3]\n"
          ]
        }
      ]
    },
    {
      "cell_type": "code",
      "source": [
        ""
      ],
      "metadata": {
        "id": "tKNrRsuI38bO"
      },
      "execution_count": null,
      "outputs": []
    }
  ]
}